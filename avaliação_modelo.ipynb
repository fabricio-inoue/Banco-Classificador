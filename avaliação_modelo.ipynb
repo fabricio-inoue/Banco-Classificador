{
 "cells": [
  {
   "cell_type": "code",
   "execution_count": 69,
   "metadata": {},
   "outputs": [],
   "source": [
    "import pandas as pd\n",
    "from sklearn.model_selection import cross_val_score, GridSearchCV\n",
    "from sklearn.ensemble import RandomForestClassifier\n",
    "from sklearn.datasets import load_iris\n",
    "from sklearn.model_selection import cross_val_predict\n",
    "from sklearn.metrics import roc_auc_score, log_loss, confusion_matrix"
   ]
  },
  {
   "cell_type": "code",
   "execution_count": 70,
   "metadata": {},
   "outputs": [],
   "source": [
    "# Carregando o conjunto de dados Iris\n",
    "iris = load_iris()\n",
    "X = iris.data\n",
    "y = iris.target\n",
    "\n",
    "# Definindo o modelo Random Forest\n",
    "rf_model = RandomForestClassifier()"
   ]
  },
  {
   "cell_type": "code",
   "execution_count": 71,
   "metadata": {},
   "outputs": [
    {
     "data": {
      "text/html": [
       "<style>#sk-container-id-2 {color: black;}#sk-container-id-2 pre{padding: 0;}#sk-container-id-2 div.sk-toggleable {background-color: white;}#sk-container-id-2 label.sk-toggleable__label {cursor: pointer;display: block;width: 100%;margin-bottom: 0;padding: 0.3em;box-sizing: border-box;text-align: center;}#sk-container-id-2 label.sk-toggleable__label-arrow:before {content: \"▸\";float: left;margin-right: 0.25em;color: #696969;}#sk-container-id-2 label.sk-toggleable__label-arrow:hover:before {color: black;}#sk-container-id-2 div.sk-estimator:hover label.sk-toggleable__label-arrow:before {color: black;}#sk-container-id-2 div.sk-toggleable__content {max-height: 0;max-width: 0;overflow: hidden;text-align: left;background-color: #f0f8ff;}#sk-container-id-2 div.sk-toggleable__content pre {margin: 0.2em;color: black;border-radius: 0.25em;background-color: #f0f8ff;}#sk-container-id-2 input.sk-toggleable__control:checked~div.sk-toggleable__content {max-height: 200px;max-width: 100%;overflow: auto;}#sk-container-id-2 input.sk-toggleable__control:checked~label.sk-toggleable__label-arrow:before {content: \"▾\";}#sk-container-id-2 div.sk-estimator input.sk-toggleable__control:checked~label.sk-toggleable__label {background-color: #d4ebff;}#sk-container-id-2 div.sk-label input.sk-toggleable__control:checked~label.sk-toggleable__label {background-color: #d4ebff;}#sk-container-id-2 input.sk-hidden--visually {border: 0;clip: rect(1px 1px 1px 1px);clip: rect(1px, 1px, 1px, 1px);height: 1px;margin: -1px;overflow: hidden;padding: 0;position: absolute;width: 1px;}#sk-container-id-2 div.sk-estimator {font-family: monospace;background-color: #f0f8ff;border: 1px dotted black;border-radius: 0.25em;box-sizing: border-box;margin-bottom: 0.5em;}#sk-container-id-2 div.sk-estimator:hover {background-color: #d4ebff;}#sk-container-id-2 div.sk-parallel-item::after {content: \"\";width: 100%;border-bottom: 1px solid gray;flex-grow: 1;}#sk-container-id-2 div.sk-label:hover label.sk-toggleable__label {background-color: #d4ebff;}#sk-container-id-2 div.sk-serial::before {content: \"\";position: absolute;border-left: 1px solid gray;box-sizing: border-box;top: 0;bottom: 0;left: 50%;z-index: 0;}#sk-container-id-2 div.sk-serial {display: flex;flex-direction: column;align-items: center;background-color: white;padding-right: 0.2em;padding-left: 0.2em;position: relative;}#sk-container-id-2 div.sk-item {position: relative;z-index: 1;}#sk-container-id-2 div.sk-parallel {display: flex;align-items: stretch;justify-content: center;background-color: white;position: relative;}#sk-container-id-2 div.sk-item::before, #sk-container-id-2 div.sk-parallel-item::before {content: \"\";position: absolute;border-left: 1px solid gray;box-sizing: border-box;top: 0;bottom: 0;left: 50%;z-index: -1;}#sk-container-id-2 div.sk-parallel-item {display: flex;flex-direction: column;z-index: 1;position: relative;background-color: white;}#sk-container-id-2 div.sk-parallel-item:first-child::after {align-self: flex-end;width: 50%;}#sk-container-id-2 div.sk-parallel-item:last-child::after {align-self: flex-start;width: 50%;}#sk-container-id-2 div.sk-parallel-item:only-child::after {width: 0;}#sk-container-id-2 div.sk-dashed-wrapped {border: 1px dashed gray;margin: 0 0.4em 0.5em 0.4em;box-sizing: border-box;padding-bottom: 0.4em;background-color: white;}#sk-container-id-2 div.sk-label label {font-family: monospace;font-weight: bold;display: inline-block;line-height: 1.2em;}#sk-container-id-2 div.sk-label-container {text-align: center;}#sk-container-id-2 div.sk-container {/* jupyter's `normalize.less` sets `[hidden] { display: none; }` but bootstrap.min.css set `[hidden] { display: none !important; }` so we also need the `!important` here to be able to override the default hidden behavior on the sphinx rendered scikit-learn.org. See: https://github.com/scikit-learn/scikit-learn/issues/21755 */display: inline-block !important;position: relative;}#sk-container-id-2 div.sk-text-repr-fallback {display: none;}</style><div id=\"sk-container-id-2\" class=\"sk-top-container\"><div class=\"sk-text-repr-fallback\"><pre>RandomForestClassifier()</pre><b>In a Jupyter environment, please rerun this cell to show the HTML representation or trust the notebook. <br />On GitHub, the HTML representation is unable to render, please try loading this page with nbviewer.org.</b></div><div class=\"sk-container\" hidden><div class=\"sk-item\"><div class=\"sk-estimator sk-toggleable\"><input class=\"sk-toggleable__control sk-hidden--visually\" id=\"sk-estimator-id-2\" type=\"checkbox\" checked><label for=\"sk-estimator-id-2\" class=\"sk-toggleable__label sk-toggleable__label-arrow\">RandomForestClassifier</label><div class=\"sk-toggleable__content\"><pre>RandomForestClassifier()</pre></div></div></div></div></div>"
      ],
      "text/plain": [
       "RandomForestClassifier()"
      ]
     },
     "execution_count": 71,
     "metadata": {},
     "output_type": "execute_result"
    }
   ],
   "source": [
    "# Definindo o modelo Random Forest\n",
    "rf_model = RandomForestClassifier()\n",
    "rf_model.fit(X, y)"
   ]
  },
  {
   "cell_type": "code",
   "execution_count": 95,
   "metadata": {},
   "outputs": [],
   "source": [
    "def cria_lista_roc_auc(y_pred, avarage, class_labels):\n",
    "    roc_auc_list = []\n",
    "\n",
    "    # Calculando ROC AUC para cada classe\n",
    "    for i in range(len(class_labels)):\n",
    "        # Crie um array binário indicando a classe atual vs. todas as outras classes\n",
    "        y_binary = [1 if label == i else 0 for label in y]\n",
    "\n",
    "        # Calcule o ROC AUC para a classe atual\n",
    "        roc_auc = roc_auc_score(y_binary, y_pred, average=avarage)\n",
    "        \n",
    "        roc_auc_list.append(roc_auc)\n",
    "\n",
    "    # Exiba a lista de ROC AUC para cada classe\n",
    "    return roc_auc_list\n",
    "\n",
    "def calculate_log_loss_for_classes(model, X, y, class_labels):\n",
    "    class_labels = list(set(y))\n",
    "    log_loss_list = []\n",
    "\n",
    "    for i, class_label in enumerate(class_labels):\n",
    "        y_binary = [1 if label == class_label else 0 for label in y]\n",
    "        y_prob = model.predict_proba(X)\n",
    "        y_prob_class = y_prob[:, i]\n",
    "        logloss = log_loss(y_binary, y_prob_class)\n",
    "        log_loss_list.append(logloss)\n",
    "\n",
    "    return log_loss_list"
   ]
  },
  {
   "cell_type": "code",
   "execution_count": 106,
   "metadata": {},
   "outputs": [],
   "source": [
    "def evaluate_model_with_cross_validation(model, X, y, class_labels, cv=3):\n",
    "    y_pred = cross_val_predict(model, X, y, cv=cv)\n",
    "    \n",
    "    accuracy = cross_val_score(model, X, y, cv=cv, scoring='accuracy')\n",
    "    precision = cross_val_score(model, X, y, cv=cv, scoring='precision_weighted')\n",
    "    recall = cross_val_score(model, X, y, cv=cv, scoring='recall_weighted')\n",
    "    f1 = cross_val_score(model, X, y, cv=cv, scoring='f1_weighted')\n",
    "\n",
    "    confusion = confusion_matrix(y, y_pred)\n",
    "\n",
    "    result_dict = {\n",
    "        'Class': class_labels,\n",
    "        'Accuracy': accuracy,\n",
    "        'Precision': precision,\n",
    "        'Recall': recall,\n",
    "        'F1 Score': f1,\n",
    "        'Confusion Matrix': [c.tolist() for c in confusion]\n",
    "        \n",
    "    }\n",
    "\n",
    "    return result_dict"
   ]
  },
  {
   "cell_type": "code",
   "execution_count": 108,
   "metadata": {},
   "outputs": [
    {
     "data": {
      "text/plain": [
       "{'Class': ['Iris Setosa', 'Iris Versicolor', 'Iris Virginica'],\n",
       " 'Accuracy': array([0.98, 0.94, 0.98]),\n",
       " 'Precision': array([0.98111111, 0.94088889, 0.98111111]),\n",
       " 'Recall': array([0.98, 0.94, 0.98]),\n",
       " 'F1 Score': array([0.97996313, 0.9398894 , 0.97998268]),\n",
       " 'Confusion Matrix': [[50, 0, 0], [0, 47, 3], [0, 2, 48]]}"
      ]
     },
     "execution_count": 108,
     "metadata": {},
     "output_type": "execute_result"
    }
   ],
   "source": [
    "# Realizando validação cruzada cv é a quantidade de dobras que serão realizadas para a avaliação do modelo\n",
    "class_labels = [\"Iris Setosa\", \"Iris Versicolor\", \"Iris Virginica\"]\n",
    "df_score = evaluate_model_with_cross_validation(rf_model, X, y, class_labels, cv=3)\n",
    "df_score"
   ]
  },
  {
   "cell_type": "markdown",
   "metadata": {},
   "source": [
    "#### With multiple iterations"
   ]
  },
  {
   "cell_type": "code",
   "execution_count": 136,
   "metadata": {},
   "outputs": [
    {
     "name": "stdout",
     "output_type": "stream",
     "text": [
      "Best Parameters after Refinement: {'max_depth': None, 'n_estimators': 200}\n",
      "Best Score after Refinement: 0.9666117395149653\n"
     ]
    }
   ],
   "source": [
    "from sklearn.ensemble import RandomForestClassifier\n",
    "from sklearn.model_selection import GridSearchCV\n",
    "\n",
    "def refine_params_with_iterations(rf_model, X, y, param_grid, num_iterations=5, scoring='f1_weighted'):\n",
    "    best_score = None\n",
    "    best_params = None\n",
    "\n",
    "    for _ in range(num_iterations):\n",
    "        # Perform the initial or refined grid search\n",
    "        grid_search = GridSearchCV(estimator=rf_model, param_grid=param_grid, cv=3, scoring=scoring)\n",
    "        grid_search.fit(X, y)\n",
    "\n",
    "        # Get the best parameters from the current search\n",
    "        current_best_params = grid_search.best_params_\n",
    "        current_best_score = grid_search.best_score_\n",
    "\n",
    "        # If the current score is better than the previous best score, update the best parameters\n",
    "        if best_score is None or current_best_score > best_score:\n",
    "            best_score = current_best_score\n",
    "            best_params = current_best_params\n",
    "\n",
    "        # Refine the parameter grid for the next iteration\n",
    "        param_grid = refine_param_grid(current_best_params, rf_model)\n",
    "\n",
    "    return best_params, best_score\n",
    "\n",
    "def refine_param_grid(best_params, rf_model):\n",
    "    max_depth = best_params.get('max_depth', None)\n",
    "\n",
    "    if max_depth is None:\n",
    "        max_depth = max(estimator.tree_.max_depth for estimator in rf_model.estimators_)\n",
    "\n",
    "    refined_param_grid = {\n",
    "        'n_estimators': [abs(int(best_params['n_estimators'] / 2)), abs(best_params['n_estimators']), abs(best_params['n_estimators'] * 2)],\n",
    "        'max_depth': [abs(int(max_depth / 2)), max_depth, max_depth * 2]\n",
    "    }\n",
    "    return refined_param_grid\n",
    "\n",
    "\n",
    "param_grid = {\n",
    "    'n_estimators': [10, 50, 100, 200],\n",
    "    'max_depth': [None, 10, 20, 30]\n",
    "}\n",
    "\n",
    "best_params, best_score = refine_params_with_iterations(rf_model, X, y, param_grid, num_iterations=5, scoring='f1_weighted')\n",
    "\n",
    "print(\"Best Parameters after Refinement:\", best_params)\n",
    "print(\"Best Score after Refinement:\", best_score)"
   ]
  },
  {
   "cell_type": "markdown",
   "metadata": {},
   "source": [
    "#### With only one itteration of refine_param_grid"
   ]
  },
  {
   "cell_type": "code",
   "execution_count": 139,
   "metadata": {},
   "outputs": [
    {
     "name": "stdout",
     "output_type": "stream",
     "text": [
      "Best Parameters after Refinement: {'max_depth': 9, 'n_estimators': 50}\n",
      "Best Score after Refinement: 0.9666117395149653\n"
     ]
    }
   ],
   "source": [
    "# Initial parameter grid\n",
    "param_grid = {\n",
    "    'n_estimators': [10, 50, 100, 200],\n",
    "    'max_depth': [None, 10, 20, 30]\n",
    "}\n",
    "\n",
    "# Perform the initial grid search\n",
    "grid_search = GridSearchCV(estimator=rf_model, param_grid=param_grid, cv=3, scoring='f1_weighted')\n",
    "grid_search.fit(X, y)\n",
    "\n",
    "# Get the best parameters from the initial search\n",
    "best_params = grid_search.best_params_\n",
    "best_score = grid_search.best_score_\n",
    "\n",
    "# Refine the parameter grid\n",
    "refined_param_grid = refine_param_grid(best_params, rf_model)\n",
    "\n",
    "# Perform a refined grid search\n",
    "refined_grid_search = GridSearchCV(estimator=rf_model, param_grid=refined_param_grid, cv=3, scoring='f1_weighted')\n",
    "refined_grid_search.fit(X, y)\n",
    "\n",
    "# Display the results of the refined search\n",
    "print(\"Best Parameters after Refinement:\", refined_grid_search.best_params_)\n",
    "print(\"Best Score after Refinement:\", refined_grid_search.best_score_)"
   ]
  },
  {
   "cell_type": "code",
   "execution_count": 147,
   "metadata": {},
   "outputs": [],
   "source": [
    "import numpy as np\n",
    "def gini_index(y_true, y_pred):\n",
    "    n = len(y_true)\n",
    "    sorted_indices = np.argsort(y_pred)\n",
    "    sorted_y_true = y_true[sorted_indices]\n",
    "    cumulative_sum = np.cumsum(sorted_y_true)\n",
    "    total_positives = np.sum(sorted_y_true)\n",
    "    \n",
    "    gini_sum = np.sum(cumulative_sum) / total_positives - (n + 1) / 2\n",
    "    gini_index = gini_sum / n\n",
    "\n",
    "    return gini_index"
   ]
  },
  {
   "cell_type": "code",
   "execution_count": 144,
   "metadata": {},
   "outputs": [
    {
     "data": {
      "image/png": "[encoded data removed]",
      "text/plain": [
       "<Figure size 800x800 with 1 Axes>"
      ]
     },
     "metadata": {},
     "output_type": "display_data"
    }
   ],
   "source": [
    "import matplotlib.pyplot as plt\n",
    "from sklearn.metrics import roc_curve, auc\n",
    "\n",
    "def plot_multiclass_roc_curve(model, X, y):\n",
    "    n_classes = len(model.classes_)\n",
    "    fpr = dict()\n",
    "    tpr = dict()\n",
    "    roc_auc = dict()\n",
    "    \n",
    "    y_pred = model.predict_proba(X)\n",
    "    \n",
    "    for i in range(n_classes):\n",
    "        fpr[i], tpr[i], _ = roc_curve(y == i, y_pred[:, i])\n",
    "        roc_auc[i] = auc(fpr[i], tpr[i])\n",
    "    \n",
    "    plt.figure(figsize=(8, 8))\n",
    "    for i in range(n_classes):\n",
    "        plt.plot(fpr[i], tpr[i], label='ROC curve (class {})'.format(i))\n",
    "    plt.xlabel('False Positive Rate')\n",
    "    plt.ylabel('True Positive Rate')\n",
    "    plt.title('Multiclass Receiver Operating Characteristic (ROC)')\n",
    "    plt.legend(loc=\"lower right\")\n",
    "    plt.show()\n",
    "\n",
    "plot_multiclass_roc_curve(rf_model, X, y)"
   ]
  },
  {
   "cell_type": "code",
   "execution_count": 146,
   "metadata": {},
   "outputs": [
    {
     "data": {
      "image/png": "[encoded data removed]",
      "text/plain": [
       "<Figure size 800x800 with 1 Axes>"
      ]
     },
     "metadata": {},
     "output_type": "display_data"
    }
   ],
   "source": [
    "import matplotlib.pyplot as plt\n",
    "from sklearn.metrics import precision_recall_curve, average_precision_score\n",
    "\n",
    "def plot_multiclass_precision_recall_curve(model, X, y):\n",
    "    n_classes = len(model.classes_)\n",
    "    precision = dict()\n",
    "    recall = dict()\n",
    "    pr_auc = dict()\n",
    "\n",
    "    y_pred = model.predict_proba(X)\n",
    "\n",
    "    for i in range(n_classes):\n",
    "        precision[i], recall[i], _ = precision_recall_curve(y == i, y_pred[:, i])\n",
    "        pr_auc[i] = average_precision_score(y == i, y_pred[:, i])\n",
    "\n",
    "    plt.figure(figsize=(8, 8))\n",
    "    for i in range(n_classes):\n",
    "        plt.plot(recall[i], precision[i], label='PR curve (class {}) (area = {:.2f})'.format(i, pr_auc[i]))\n",
    "    plt.xlabel('Recall')\n",
    "    plt.ylabel('Precision')\n",
    "    plt.title('Multiclass Precision-Recall Curve')\n",
    "    plt.legend(loc=\"lower left\")\n",
    "    plt.show()\n",
    "\n",
    "plot_multiclass_precision_recall_curve(rf_model, X, y)"
   ]
  },
  {
   "cell_type": "code",
   "execution_count": 149,
   "metadata": {},
   "outputs": [
    {
     "data": {
      "text/html": [
       "<div>\n",
       "<style scoped>\n",
       "    .dataframe tbody tr th:only-of-type {\n",
       "        vertical-align: middle;\n",
       "    }\n",
       "\n",
       "    .dataframe tbody tr th {\n",
       "        vertical-align: top;\n",
       "    }\n",
       "\n",
       "    .dataframe thead th {\n",
       "        text-align: right;\n",
       "    }\n",
       "</style>\n",
       "<table border=\"1\" class=\"dataframe\">\n",
       "  <thead>\n",
       "    <tr style=\"text-align: right;\">\n",
       "      <th></th>\n",
       "      <th>Metric</th>\n",
       "      <th>Value</th>\n",
       "    </tr>\n",
       "  </thead>\n",
       "  <tbody>\n",
       "    <tr>\n",
       "      <th>0</th>\n",
       "      <td>Accuracy</td>\n",
       "      <td>1.000000</td>\n",
       "    </tr>\n",
       "    <tr>\n",
       "      <th>1</th>\n",
       "      <td>Precision</td>\n",
       "      <td>1.000000</td>\n",
       "    </tr>\n",
       "    <tr>\n",
       "      <th>2</th>\n",
       "      <td>Recall</td>\n",
       "      <td>1.000000</td>\n",
       "    </tr>\n",
       "    <tr>\n",
       "      <th>3</th>\n",
       "      <td>F1-Score</td>\n",
       "      <td>1.000000</td>\n",
       "    </tr>\n",
       "    <tr>\n",
       "      <th>4</th>\n",
       "      <td>AUC-ROC</td>\n",
       "      <td>1.000000</td>\n",
       "    </tr>\n",
       "    <tr>\n",
       "      <th>5</th>\n",
       "      <td>AUC-PR</td>\n",
       "      <td>1.000000</td>\n",
       "    </tr>\n",
       "    <tr>\n",
       "      <th>6</th>\n",
       "      <td>Kappa</td>\n",
       "      <td>1.000000</td>\n",
       "    </tr>\n",
       "    <tr>\n",
       "      <th>7</th>\n",
       "      <td>MCC</td>\n",
       "      <td>1.000000</td>\n",
       "    </tr>\n",
       "    <tr>\n",
       "      <th>8</th>\n",
       "      <td>Jaccard Index</td>\n",
       "      <td>1.000000</td>\n",
       "    </tr>\n",
       "    <tr>\n",
       "      <th>9</th>\n",
       "      <td>Log Loss</td>\n",
       "      <td>0.022708</td>\n",
       "    </tr>\n",
       "    <tr>\n",
       "      <th>10</th>\n",
       "      <td>Balanced Accuracy</td>\n",
       "      <td>1.000000</td>\n",
       "    </tr>\n",
       "  </tbody>\n",
       "</table>\n",
       "</div>"
      ],
      "text/plain": [
       "               Metric     Value\n",
       "0            Accuracy  1.000000\n",
       "1           Precision  1.000000\n",
       "2              Recall  1.000000\n",
       "3            F1-Score  1.000000\n",
       "4             AUC-ROC  1.000000\n",
       "5              AUC-PR  1.000000\n",
       "6               Kappa  1.000000\n",
       "7                 MCC  1.000000\n",
       "8       Jaccard Index  1.000000\n",
       "9            Log Loss  0.022708\n",
       "10  Balanced Accuracy  1.000000"
      ]
     },
     "execution_count": 149,
     "metadata": {},
     "output_type": "execute_result"
    }
   ],
   "source": [
    "import pandas as pd\n",
    "from sklearn.metrics import accuracy_score, precision_score, recall_score, f1_score, confusion_matrix, roc_auc_score, average_precision_score, cohen_kappa_score, matthews_corrcoef, jaccard_score, log_loss, balanced_accuracy_score\n",
    "\n",
    "def evaluate_model(model, X, y):\n",
    "    # Make predictions\n",
    "    y_pred = model.predict(X)\n",
    "    \n",
    "    # Calculate metrics\n",
    "    accuracy = accuracy_score(y, y_pred)\n",
    "    precision = precision_score(y, y_pred, average='weighted')  # Use 'weighted' for multiclass\n",
    "    recall = recall_score(y, y_pred, average='weighted')  # Use 'weighted' for multiclass\n",
    "    f1 = f1_score(y, y_pred, average='weighted')  # Use 'weighted' for multiclass\n",
    "    cm = confusion_matrix(y, y_pred)\n",
    "    \n",
    "    roc_auc = roc_auc_score(y, model.predict_proba(X), multi_class='ovr')  # Use 'ovr' for multiclass\n",
    "    pr_auc = average_precision_score(y, model.predict_proba(X), average='weighted')  # Use 'weighted' for multiclass\n",
    "    \n",
    "    kappa = cohen_kappa_score(y, y_pred)\n",
    "    mcc = matthews_corrcoef(y, y_pred)\n",
    "    jaccard = jaccard_score(y, y_pred, average='weighted')  # Use 'weighted' for multiclass\n",
    "    logloss = log_loss(y, model.predict_proba(X))\n",
    "    balanced_accuracy = balanced_accuracy_score(y, y_pred)\n",
    "    \n",
    "    # Create a DataFrame\n",
    "    df = pd.DataFrame({\n",
    "        'Metric': ['Accuracy', 'Precision', 'Recall', 'F1-Score', 'AUC-ROC', 'AUC-PR', 'Kappa', 'MCC', 'Jaccard Index', 'Log Loss', 'Balanced Accuracy'],\n",
    "        'Value': [accuracy, precision, recall, f1, roc_auc, pr_auc, kappa, mcc, jaccard, logloss, balanced_accuracy]\n",
    "    })\n",
    "    \n",
    "    return df\n",
    "\n",
    "evaluate_model(rf_model, X, y)"
   ]
  },
  {
   "cell_type": "code",
   "execution_count": null,
   "metadata": {},
   "outputs": [],
   "source": []
  }
 ],
 "metadata": {
  "kernelspec": {
   "display_name": "Python 3",
   "language": "python",
   "name": "python3"
  },
  "language_info": {
   "codemirror_mode": {
    "name": "ipython",
    "version": 3
   },
   "file_extension": ".py",
   "mimetype": "text/x-python",
   "name": "python",
   "nbconvert_exporter": "python",
   "pygments_lexer": "ipython3",
   "version": "3.10.7"
  }
 },
 "nbformat": 4,
 "nbformat_minor": 2
}
